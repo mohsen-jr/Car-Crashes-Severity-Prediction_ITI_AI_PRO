{
 "cells": [
  {
   "cell_type": "markdown",
   "id": "1b46f5f4",
   "metadata": {
    "papermill": {
     "duration": 0.019061,
     "end_time": "2021-07-27T16:49:37.862938",
     "exception": false,
     "start_time": "2021-07-27T16:49:37.843877",
     "status": "completed"
    },
    "tags": []
   },
   "source": [
    "## You're here! \n",
    "Welcome to your first competition in the [ITI's AI Pro training program](https://ai.iti.gov.eg/epita/ai-engineer/)! We hope you enjoy and learn as much as we did prepairing this competition.\n",
    "\n",
    "\n",
    "## Introduction\n",
    "\n",
    "In the competition, it's required to predict the `Severity` of a car crash given info about the crash, e.g., location.\n",
    "\n",
    "This is the getting started notebook. Things are kept simple so that it's easier to understand the steps and modify it.\n",
    "\n",
    "Feel free to `Fork` this notebook and share it with your modifications **OR** use it to create your submissions.\n",
    "\n",
    "### Prerequisites\n",
    "You should know how to use python and a little bit of Machine Learning. You can apply the techniques you learned in the training program and submit the new solutions! \n",
    "\n",
    "### Checklist\n",
    "You can participate in this competition the way you perefer. However, I recommend following these steps if this is your first time joining a competition on Kaggle.\n",
    "\n",
    "* Fork this notebook and run the cells in order.\n",
    "* Submit this solution.\n",
    "* Make changes to the data processing step as you see fit.\n",
    "* Submit the new solutions.\n",
    "\n",
    "*You can submit up to 5 submissions per day. You can select only one of the submission you make to be considered in the final ranking.*\n",
    "\n",
    "\n",
    "Don't hesitate to leave a comment or contact me if you have any question!"
   ]
  },
  {
   "cell_type": "markdown",
   "id": "ba33ad40",
   "metadata": {
    "papermill": {
     "duration": 0.017999,
     "end_time": "2021-07-27T16:49:37.900101",
     "exception": false,
     "start_time": "2021-07-27T16:49:37.882102",
     "status": "completed"
    },
    "tags": []
   },
   "source": [
    "## Import the libraries\n",
    "\n",
    "We'll use `pandas` to load and manipulate the data. Other libraries will be imported in the relevant sections."
   ]
  },
  {
   "cell_type": "code",
   "execution_count": 1,
   "id": "bda83477",
   "metadata": {
    "_cell_guid": "b1076dfc-b9ad-4769-8c92-a6c4dae69d19",
    "_uuid": "8f2839f25d086af736a60e9eeb907d3b93b6e0e5",
    "execution": {
     "iopub.execute_input": "2021-07-27T16:49:37.941555Z",
     "iopub.status.busy": "2021-07-27T16:49:37.940483Z",
     "iopub.status.idle": "2021-07-27T16:49:38.883744Z",
     "shell.execute_reply": "2021-07-27T16:49:38.882260Z"
    },
    "papermill": {
     "duration": 0.965194,
     "end_time": "2021-07-27T16:49:38.884001",
     "exception": false,
     "start_time": "2021-07-27T16:49:37.918807",
     "status": "completed"
    },
    "tags": []
   },
   "outputs": [],
   "source": [
    "import pandas as pd\n",
    "from datetime import datetime\n",
    "from xml.dom import minidom\n",
    "from scipy.stats import chi2_contingency, kruskal\n",
    "import os\n"
   ]
  },
  {
   "cell_type": "markdown",
   "id": "f3d0c7d9",
   "metadata": {
    "papermill": {
     "duration": 0.018398,
     "end_time": "2021-07-27T16:49:38.924063",
     "exception": false,
     "start_time": "2021-07-27T16:49:38.905665",
     "status": "completed"
    },
    "tags": []
   },
   "source": [
    "## Exploratory Data Analysis\n",
    "In this step, one should load the data and analyze it. However, I'll load the data and do minimal analysis. You are encouraged to do thorough analysis!\n",
    "\n",
    "Let's load the data using `pandas` and have a look at the generated `DataFrame`."
   ]
  },
  {
   "cell_type": "code",
   "execution_count": 2,
   "id": "e6483e31",
   "metadata": {
    "execution": {
     "iopub.execute_input": "2021-07-27T16:49:38.966658Z",
     "iopub.status.busy": "2021-07-27T16:49:38.965986Z",
     "iopub.status.idle": "2021-07-27T16:49:39.072935Z",
     "shell.execute_reply": "2021-07-27T16:49:39.072489Z"
    },
    "papermill": {
     "duration": 0.130796,
     "end_time": "2021-07-27T16:49:39.073070",
     "exception": false,
     "start_time": "2021-07-27T16:49:38.942274",
     "status": "completed"
    },
    "tags": []
   },
   "outputs": [
    {
     "name": "stdout",
     "output_type": "stream",
     "text": [
      "The shape of the dataset is (6407, 16).\n",
      "\n",
      "\n"
     ]
    },
    {
     "data": {
      "text/html": [
       "<div>\n",
       "<style scoped>\n",
       "    .dataframe tbody tr th:only-of-type {\n",
       "        vertical-align: middle;\n",
       "    }\n",
       "\n",
       "    .dataframe tbody tr th {\n",
       "        vertical-align: top;\n",
       "    }\n",
       "\n",
       "    .dataframe thead th {\n",
       "        text-align: right;\n",
       "    }\n",
       "</style>\n",
       "<table border=\"1\" class=\"dataframe\">\n",
       "  <thead>\n",
       "    <tr style=\"text-align: right;\">\n",
       "      <th></th>\n",
       "      <th>ID</th>\n",
       "      <th>Lat</th>\n",
       "      <th>Lng</th>\n",
       "      <th>Bump</th>\n",
       "      <th>Distance(mi)</th>\n",
       "      <th>Crossing</th>\n",
       "      <th>Give_Way</th>\n",
       "      <th>Junction</th>\n",
       "      <th>No_Exit</th>\n",
       "      <th>Railway</th>\n",
       "      <th>Roundabout</th>\n",
       "      <th>Stop</th>\n",
       "      <th>Amenity</th>\n",
       "      <th>Side</th>\n",
       "      <th>Severity</th>\n",
       "      <th>timestamp</th>\n",
       "    </tr>\n",
       "  </thead>\n",
       "  <tbody>\n",
       "    <tr>\n",
       "      <th>0</th>\n",
       "      <td>0</td>\n",
       "      <td>37.762150</td>\n",
       "      <td>-122.405660</td>\n",
       "      <td>False</td>\n",
       "      <td>0.044</td>\n",
       "      <td>False</td>\n",
       "      <td>False</td>\n",
       "      <td>False</td>\n",
       "      <td>False</td>\n",
       "      <td>False</td>\n",
       "      <td>False</td>\n",
       "      <td>False</td>\n",
       "      <td>True</td>\n",
       "      <td>R</td>\n",
       "      <td>2</td>\n",
       "      <td>2016-03-25 15:13:02</td>\n",
       "    </tr>\n",
       "    <tr>\n",
       "      <th>1</th>\n",
       "      <td>1</td>\n",
       "      <td>37.719157</td>\n",
       "      <td>-122.448254</td>\n",
       "      <td>False</td>\n",
       "      <td>0.000</td>\n",
       "      <td>False</td>\n",
       "      <td>False</td>\n",
       "      <td>False</td>\n",
       "      <td>False</td>\n",
       "      <td>False</td>\n",
       "      <td>False</td>\n",
       "      <td>False</td>\n",
       "      <td>False</td>\n",
       "      <td>R</td>\n",
       "      <td>2</td>\n",
       "      <td>2020-05-05 19:23:00</td>\n",
       "    </tr>\n",
       "    <tr>\n",
       "      <th>2</th>\n",
       "      <td>2</td>\n",
       "      <td>37.808498</td>\n",
       "      <td>-122.366852</td>\n",
       "      <td>False</td>\n",
       "      <td>0.000</td>\n",
       "      <td>False</td>\n",
       "      <td>False</td>\n",
       "      <td>False</td>\n",
       "      <td>False</td>\n",
       "      <td>False</td>\n",
       "      <td>False</td>\n",
       "      <td>True</td>\n",
       "      <td>False</td>\n",
       "      <td>R</td>\n",
       "      <td>3</td>\n",
       "      <td>2016-09-16 19:57:16</td>\n",
       "    </tr>\n",
       "    <tr>\n",
       "      <th>3</th>\n",
       "      <td>3</td>\n",
       "      <td>37.785930</td>\n",
       "      <td>-122.391080</td>\n",
       "      <td>False</td>\n",
       "      <td>0.009</td>\n",
       "      <td>False</td>\n",
       "      <td>False</td>\n",
       "      <td>True</td>\n",
       "      <td>False</td>\n",
       "      <td>False</td>\n",
       "      <td>False</td>\n",
       "      <td>False</td>\n",
       "      <td>False</td>\n",
       "      <td>R</td>\n",
       "      <td>1</td>\n",
       "      <td>2020-03-29 19:48:43</td>\n",
       "    </tr>\n",
       "    <tr>\n",
       "      <th>4</th>\n",
       "      <td>4</td>\n",
       "      <td>37.719141</td>\n",
       "      <td>-122.448457</td>\n",
       "      <td>False</td>\n",
       "      <td>0.000</td>\n",
       "      <td>False</td>\n",
       "      <td>False</td>\n",
       "      <td>False</td>\n",
       "      <td>False</td>\n",
       "      <td>False</td>\n",
       "      <td>False</td>\n",
       "      <td>False</td>\n",
       "      <td>False</td>\n",
       "      <td>R</td>\n",
       "      <td>2</td>\n",
       "      <td>2019-10-09 08:47:00</td>\n",
       "    </tr>\n",
       "  </tbody>\n",
       "</table>\n",
       "</div>"
      ],
      "text/plain": [
       "   ID        Lat         Lng   Bump  Distance(mi)  Crossing  Give_Way  \\\n",
       "0   0  37.762150 -122.405660  False         0.044     False     False   \n",
       "1   1  37.719157 -122.448254  False         0.000     False     False   \n",
       "2   2  37.808498 -122.366852  False         0.000     False     False   \n",
       "3   3  37.785930 -122.391080  False         0.009     False     False   \n",
       "4   4  37.719141 -122.448457  False         0.000     False     False   \n",
       "\n",
       "   Junction  No_Exit  Railway  Roundabout   Stop  Amenity Side  Severity  \\\n",
       "0     False    False    False       False  False     True    R         2   \n",
       "1     False    False    False       False  False    False    R         2   \n",
       "2     False    False    False       False   True    False    R         3   \n",
       "3      True    False    False       False  False    False    R         1   \n",
       "4     False    False    False       False  False    False    R         2   \n",
       "\n",
       "             timestamp  \n",
       "0  2016-03-25 15:13:02  \n",
       "1  2020-05-05 19:23:00  \n",
       "2  2016-09-16 19:57:16  \n",
       "3  2020-03-29 19:48:43  \n",
       "4  2019-10-09 08:47:00  "
      ]
     },
     "execution_count": 2,
     "metadata": {},
     "output_type": "execute_result"
    }
   ],
   "source": [
    "dataset_path = '/kaggle/input/car-crashes-severity-prediction/'\n",
    "\n",
    "df = pd.read_csv(os.path.join(dataset_path, \"train.csv\"), index_col=None)\n",
    "\n",
    "\n",
    "print(\"The shape of the dataset is {}.\\n\\n\".format(df.shape))\n",
    "\n",
    "# remove rows with any null values\n",
    "df = df.dropna()\n",
    "# remove duplicate rows\n",
    "df = df.drop_duplicates()\n",
    "df.head()\n"
   ]
  },
  {
   "cell_type": "code",
   "execution_count": 3,
   "id": "a720f05c",
   "metadata": {
    "execution": {
     "iopub.execute_input": "2021-07-27T16:49:39.123166Z",
     "iopub.status.busy": "2021-07-27T16:49:39.122532Z",
     "iopub.status.idle": "2021-07-27T16:49:39.125490Z",
     "shell.execute_reply": "2021-07-27T16:49:39.125002Z"
    },
    "papermill": {
     "duration": 0.03284,
     "end_time": "2021-07-27T16:49:39.125634",
     "exception": false,
     "start_time": "2021-07-27T16:49:39.092794",
     "status": "completed"
    },
    "tags": []
   },
   "outputs": [],
   "source": [
    "# converting timestamp column type to become datetime\n",
    "df[\"timestamp\"] = pd.to_datetime(df[\"timestamp\"])\n",
    "# convert side to be numeric\n",
    "df[\"Side\"] = (df[\"Side\"] == \"R\")"
   ]
  },
  {
   "cell_type": "markdown",
   "id": "9278b281",
   "metadata": {
    "papermill": {
     "duration": 0.018927,
     "end_time": "2021-07-27T16:49:39.163726",
     "exception": false,
     "start_time": "2021-07-27T16:49:39.144799",
     "status": "completed"
    },
    "tags": []
   },
   "source": [
    "We've got 6407 examples in the dataset with 14 featues, 1 ID, and the `Severity` of the crash.\n",
    "\n",
    "By looking at the features and a sample from the data, the features look of numerical and catogerical types. What about some descriptive statistics?"
   ]
  },
  {
   "cell_type": "code",
   "execution_count": 4,
   "id": "0bc7fe69",
   "metadata": {
    "execution": {
     "iopub.execute_input": "2021-07-27T16:49:39.217591Z",
     "iopub.status.busy": "2021-07-27T16:49:39.214670Z",
     "iopub.status.idle": "2021-07-27T16:49:39.251338Z",
     "shell.execute_reply": "2021-07-27T16:49:39.252107Z"
    },
    "papermill": {
     "duration": 0.065003,
     "end_time": "2021-07-27T16:49:39.252347",
     "exception": false,
     "start_time": "2021-07-27T16:49:39.187344",
     "status": "completed"
    },
    "tags": []
   },
   "outputs": [
    {
     "data": {
      "text/html": [
       "<div>\n",
       "<style scoped>\n",
       "    .dataframe tbody tr th:only-of-type {\n",
       "        vertical-align: middle;\n",
       "    }\n",
       "\n",
       "    .dataframe tbody tr th {\n",
       "        vertical-align: top;\n",
       "    }\n",
       "\n",
       "    .dataframe thead th {\n",
       "        text-align: right;\n",
       "    }\n",
       "</style>\n",
       "<table border=\"1\" class=\"dataframe\">\n",
       "  <thead>\n",
       "    <tr style=\"text-align: right;\">\n",
       "      <th></th>\n",
       "      <th>Lat</th>\n",
       "      <th>Lng</th>\n",
       "      <th>Distance(mi)</th>\n",
       "      <th>Severity</th>\n",
       "    </tr>\n",
       "  </thead>\n",
       "  <tbody>\n",
       "    <tr>\n",
       "      <th>count</th>\n",
       "      <td>6407.000000</td>\n",
       "      <td>6407.000000</td>\n",
       "      <td>6407.000000</td>\n",
       "      <td>6407.000000</td>\n",
       "    </tr>\n",
       "    <tr>\n",
       "      <th>mean</th>\n",
       "      <td>37.765653</td>\n",
       "      <td>-122.405990</td>\n",
       "      <td>0.135189</td>\n",
       "      <td>2.293429</td>\n",
       "    </tr>\n",
       "    <tr>\n",
       "      <th>std</th>\n",
       "      <td>0.032555</td>\n",
       "      <td>0.028275</td>\n",
       "      <td>0.396360</td>\n",
       "      <td>0.521225</td>\n",
       "    </tr>\n",
       "    <tr>\n",
       "      <th>min</th>\n",
       "      <td>37.609619</td>\n",
       "      <td>-122.510440</td>\n",
       "      <td>0.000000</td>\n",
       "      <td>1.000000</td>\n",
       "    </tr>\n",
       "    <tr>\n",
       "      <th>25%</th>\n",
       "      <td>37.737096</td>\n",
       "      <td>-122.412210</td>\n",
       "      <td>0.000000</td>\n",
       "      <td>2.000000</td>\n",
       "    </tr>\n",
       "    <tr>\n",
       "      <th>50%</th>\n",
       "      <td>37.768238</td>\n",
       "      <td>-122.404835</td>\n",
       "      <td>0.000000</td>\n",
       "      <td>2.000000</td>\n",
       "    </tr>\n",
       "    <tr>\n",
       "      <th>75%</th>\n",
       "      <td>37.787813</td>\n",
       "      <td>-122.392477</td>\n",
       "      <td>0.041000</td>\n",
       "      <td>3.000000</td>\n",
       "    </tr>\n",
       "    <tr>\n",
       "      <th>max</th>\n",
       "      <td>37.825626</td>\n",
       "      <td>-122.349734</td>\n",
       "      <td>6.820000</td>\n",
       "      <td>4.000000</td>\n",
       "    </tr>\n",
       "  </tbody>\n",
       "</table>\n",
       "</div>"
      ],
      "text/plain": [
       "               Lat          Lng  Distance(mi)     Severity\n",
       "count  6407.000000  6407.000000   6407.000000  6407.000000\n",
       "mean     37.765653  -122.405990      0.135189     2.293429\n",
       "std       0.032555     0.028275      0.396360     0.521225\n",
       "min      37.609619  -122.510440      0.000000     1.000000\n",
       "25%      37.737096  -122.412210      0.000000     2.000000\n",
       "50%      37.768238  -122.404835      0.000000     2.000000\n",
       "75%      37.787813  -122.392477      0.041000     3.000000\n",
       "max      37.825626  -122.349734      6.820000     4.000000"
      ]
     },
     "execution_count": 4,
     "metadata": {},
     "output_type": "execute_result"
    }
   ],
   "source": [
    "df.drop(columns='ID').describe()"
   ]
  },
  {
   "cell_type": "code",
   "execution_count": 5,
   "id": "46076ce3",
   "metadata": {
    "execution": {
     "iopub.execute_input": "2021-07-27T16:49:39.307529Z",
     "iopub.status.busy": "2021-07-27T16:49:39.306845Z",
     "iopub.status.idle": "2021-07-27T16:49:39.449471Z",
     "shell.execute_reply": "2021-07-27T16:49:39.448712Z"
    },
    "papermill": {
     "duration": 0.173698,
     "end_time": "2021-07-27T16:49:39.449660",
     "exception": false,
     "start_time": "2021-07-27T16:49:39.275962",
     "status": "completed"
    },
    "tags": []
   },
   "outputs": [
    {
     "name": "stdout",
     "output_type": "stream",
     "text": [
      "Bump:\t0.0,\t1.0\n",
      "Crossing:\t0.06874158079266116,\t0.995304201413383\n",
      "Give_Way:\t0.0020712272021172545,\t0.9999749452209167\n",
      "Junction:\t0.43814292856898107,\t0.9322550917595331\n",
      "No_Exit:\t0.0006903296323994707,\t0.9999951770402176\n",
      "Railway:\t0.0465303350455207,\t0.9973674975679566\n",
      "Roundabout:\t0.0,\t1.0\n",
      "Stop:\t0.4988013574656003,\t0.9191546691770323\n",
      "Amenity:\t0.042177160325953686,\t0.9977251841514168\n",
      "Side:\t0.05894880425955066,\t0.9962600662275266\n"
     ]
    }
   ],
   "source": [
    "cat_df = df.drop(columns=[\"ID\", \"timestamp\", \"Distance(mi)\", \"Lng\", \"Lat\", \"Severity\"])\n",
    "for col in cat_df.columns:\n",
    "    contingency = pd.crosstab(df[\"Severity\"], df[col], normalize='index')\n",
    "    chi2, p_val, _, _ = chi2_contingency(contingency)\n",
    "    print(f\"{col}:\\t{chi2},\\t{p_val}\")"
   ]
  },
  {
   "cell_type": "code",
   "execution_count": 6,
   "id": "aa3cace2",
   "metadata": {
    "execution": {
     "iopub.execute_input": "2021-07-27T16:49:39.496721Z",
     "iopub.status.busy": "2021-07-27T16:49:39.495853Z",
     "iopub.status.idle": "2021-07-27T16:49:39.499534Z",
     "shell.execute_reply": "2021-07-27T16:49:39.499016Z"
    },
    "papermill": {
     "duration": 0.029194,
     "end_time": "2021-07-27T16:49:39.499668",
     "exception": false,
     "start_time": "2021-07-27T16:49:39.470474",
     "status": "completed"
    },
    "tags": []
   },
   "outputs": [],
   "source": [
    "# df.drop(columns=[\"Bump\", \"Roundabout\"], inplace=True)\n",
    "df = df[[\"ID\", \"Lng\", \"Lat\", \"Distance(mi)\", \"Stop\", \"Junction\", \"timestamp\", \"Severity\"]]"
   ]
  },
  {
   "cell_type": "code",
   "execution_count": 7,
   "id": "a0d53e8b",
   "metadata": {
    "execution": {
     "iopub.execute_input": "2021-07-27T16:49:39.563077Z",
     "iopub.status.busy": "2021-07-27T16:49:39.550685Z",
     "iopub.status.idle": "2021-07-27T16:49:39.962256Z",
     "shell.execute_reply": "2021-07-27T16:49:39.961290Z"
    },
    "papermill": {
     "duration": 0.441707,
     "end_time": "2021-07-27T16:49:39.962483",
     "exception": false,
     "start_time": "2021-07-27T16:49:39.520776",
     "status": "completed"
    },
    "tags": []
   },
   "outputs": [
    {
     "data": {
      "image/png": "[encoded data removed]",
      "text/plain": [
       "<Figure size 432x288 with 1 Axes>"
      ]
     },
     "metadata": {
      "needs_background": "light"
     },
     "output_type": "display_data"
    },
    {
     "data": {
      "image/png": "[encoded data removed]",
      "text/plain": [
       "<Figure size 432x288 with 1 Axes>"
      ]
     },
     "metadata": {
      "needs_background": "light"
     },
     "output_type": "display_data"
    },
    {
     "data": {
      "image/png": "[encoded data removed]",
      "text/plain": [
       "<Figure size 432x288 with 1 Axes>"
      ]
     },
     "metadata": {
      "needs_background": "light"
     },
     "output_type": "display_data"
    }
   ],
   "source": [
    "import matplotlib.pyplot as plt\n",
    "%matplotlib inline\n",
    "\n",
    "plt.hist(df[\"Severity\"], bins=4)\n",
    "plt.xlabel(\"Severity\")\n",
    "plt.show()\n",
    "plt.hist(df[\"Junction\"].astype(int), bins=2)\n",
    "plt.xlabel(\"Junction\")\n",
    "plt.show()\n",
    "plt.hist(df[\"Stop\"].astype(int), bins=2)\n",
    "plt.xlabel(\"Stop\")\n",
    "plt.show()"
   ]
  },
  {
   "cell_type": "code",
   "execution_count": 8,
   "id": "54d63fc7",
   "metadata": {
    "execution": {
     "iopub.execute_input": "2021-07-27T16:49:40.011813Z",
     "iopub.status.busy": "2021-07-27T16:49:40.011205Z",
     "iopub.status.idle": "2021-07-27T16:49:40.096685Z",
     "shell.execute_reply": "2021-07-27T16:49:40.097331Z"
    },
    "papermill": {
     "duration": 0.113293,
     "end_time": "2021-07-27T16:49:40.097535",
     "exception": false,
     "start_time": "2021-07-27T16:49:39.984242",
     "status": "completed"
    },
    "tags": []
   },
   "outputs": [
    {
     "data": {
      "text/html": [
       "<div>\n",
       "<style scoped>\n",
       "    .dataframe tbody tr th:only-of-type {\n",
       "        vertical-align: middle;\n",
       "    }\n",
       "\n",
       "    .dataframe tbody tr th {\n",
       "        vertical-align: top;\n",
       "    }\n",
       "\n",
       "    .dataframe thead th {\n",
       "        text-align: right;\n",
       "    }\n",
       "</style>\n",
       "<table border=\"1\" class=\"dataframe\">\n",
       "  <thead>\n",
       "    <tr style=\"text-align: right;\">\n",
       "      <th></th>\n",
       "      <th>Year</th>\n",
       "      <th>Day</th>\n",
       "      <th>Month</th>\n",
       "      <th>Hour</th>\n",
       "      <th>Wind_Chill(F)</th>\n",
       "      <th>Precipitation(in)</th>\n",
       "      <th>Temperature(F)</th>\n",
       "      <th>Humidity(%)</th>\n",
       "      <th>Wind_Speed(mph)</th>\n",
       "      <th>Visibility(mi)</th>\n",
       "    </tr>\n",
       "  </thead>\n",
       "  <tbody>\n",
       "    <tr>\n",
       "      <th>Year</th>\n",
       "      <td>1.000000</td>\n",
       "      <td>-0.008759</td>\n",
       "      <td>-0.095070</td>\n",
       "      <td>0.037009</td>\n",
       "      <td>0.017686</td>\n",
       "      <td>-0.287432</td>\n",
       "      <td>-0.075270</td>\n",
       "      <td>-0.076105</td>\n",
       "      <td>-0.133699</td>\n",
       "      <td>-0.041044</td>\n",
       "    </tr>\n",
       "    <tr>\n",
       "      <th>Day</th>\n",
       "      <td>-0.008759</td>\n",
       "      <td>1.000000</td>\n",
       "      <td>-0.005889</td>\n",
       "      <td>-0.015233</td>\n",
       "      <td>0.045488</td>\n",
       "      <td>-0.044035</td>\n",
       "      <td>-0.000725</td>\n",
       "      <td>-0.012373</td>\n",
       "      <td>-0.009052</td>\n",
       "      <td>0.072505</td>\n",
       "    </tr>\n",
       "    <tr>\n",
       "      <th>Month</th>\n",
       "      <td>-0.095070</td>\n",
       "      <td>-0.005889</td>\n",
       "      <td>1.000000</td>\n",
       "      <td>0.004537</td>\n",
       "      <td>0.105096</td>\n",
       "      <td>-0.065471</td>\n",
       "      <td>0.151220</td>\n",
       "      <td>-0.055665</td>\n",
       "      <td>-0.087484</td>\n",
       "      <td>-0.003166</td>\n",
       "    </tr>\n",
       "    <tr>\n",
       "      <th>Hour</th>\n",
       "      <td>0.037009</td>\n",
       "      <td>-0.015233</td>\n",
       "      <td>0.004537</td>\n",
       "      <td>1.000000</td>\n",
       "      <td>0.218327</td>\n",
       "      <td>-0.046043</td>\n",
       "      <td>0.221123</td>\n",
       "      <td>-0.233669</td>\n",
       "      <td>0.253412</td>\n",
       "      <td>0.096325</td>\n",
       "    </tr>\n",
       "    <tr>\n",
       "      <th>Wind_Chill(F)</th>\n",
       "      <td>0.017686</td>\n",
       "      <td>0.045488</td>\n",
       "      <td>0.105096</td>\n",
       "      <td>0.218327</td>\n",
       "      <td>1.000000</td>\n",
       "      <td>-0.139058</td>\n",
       "      <td>0.995768</td>\n",
       "      <td>-0.621983</td>\n",
       "      <td>0.306906</td>\n",
       "      <td>0.161986</td>\n",
       "    </tr>\n",
       "    <tr>\n",
       "      <th>Precipitation(in)</th>\n",
       "      <td>-0.287432</td>\n",
       "      <td>-0.044035</td>\n",
       "      <td>-0.065471</td>\n",
       "      <td>-0.046043</td>\n",
       "      <td>-0.139058</td>\n",
       "      <td>1.000000</td>\n",
       "      <td>-0.142128</td>\n",
       "      <td>0.244594</td>\n",
       "      <td>0.082269</td>\n",
       "      <td>-0.498582</td>\n",
       "    </tr>\n",
       "    <tr>\n",
       "      <th>Temperature(F)</th>\n",
       "      <td>-0.075270</td>\n",
       "      <td>-0.000725</td>\n",
       "      <td>0.151220</td>\n",
       "      <td>0.221123</td>\n",
       "      <td>0.995768</td>\n",
       "      <td>-0.142128</td>\n",
       "      <td>1.000000</td>\n",
       "      <td>-0.590995</td>\n",
       "      <td>0.278922</td>\n",
       "      <td>0.156621</td>\n",
       "    </tr>\n",
       "    <tr>\n",
       "      <th>Humidity(%)</th>\n",
       "      <td>-0.076105</td>\n",
       "      <td>-0.012373</td>\n",
       "      <td>-0.055665</td>\n",
       "      <td>-0.233669</td>\n",
       "      <td>-0.621983</td>\n",
       "      <td>0.244594</td>\n",
       "      <td>-0.590995</td>\n",
       "      <td>1.000000</td>\n",
       "      <td>-0.191177</td>\n",
       "      <td>-0.306502</td>\n",
       "    </tr>\n",
       "    <tr>\n",
       "      <th>Wind_Speed(mph)</th>\n",
       "      <td>-0.133699</td>\n",
       "      <td>-0.009052</td>\n",
       "      <td>-0.087484</td>\n",
       "      <td>0.253412</td>\n",
       "      <td>0.306906</td>\n",
       "      <td>0.082269</td>\n",
       "      <td>0.278922</td>\n",
       "      <td>-0.191177</td>\n",
       "      <td>1.000000</td>\n",
       "      <td>0.057277</td>\n",
       "    </tr>\n",
       "    <tr>\n",
       "      <th>Visibility(mi)</th>\n",
       "      <td>-0.041044</td>\n",
       "      <td>0.072505</td>\n",
       "      <td>-0.003166</td>\n",
       "      <td>0.096325</td>\n",
       "      <td>0.161986</td>\n",
       "      <td>-0.498582</td>\n",
       "      <td>0.156621</td>\n",
       "      <td>-0.306502</td>\n",
       "      <td>0.057277</td>\n",
       "      <td>1.000000</td>\n",
       "    </tr>\n",
       "  </tbody>\n",
       "</table>\n",
       "</div>"
      ],
      "text/plain": [
       "                       Year       Day     Month      Hour  Wind_Chill(F)  \\\n",
       "Year               1.000000 -0.008759 -0.095070  0.037009       0.017686   \n",
       "Day               -0.008759  1.000000 -0.005889 -0.015233       0.045488   \n",
       "Month             -0.095070 -0.005889  1.000000  0.004537       0.105096   \n",
       "Hour               0.037009 -0.015233  0.004537  1.000000       0.218327   \n",
       "Wind_Chill(F)      0.017686  0.045488  0.105096  0.218327       1.000000   \n",
       "Precipitation(in) -0.287432 -0.044035 -0.065471 -0.046043      -0.139058   \n",
       "Temperature(F)    -0.075270 -0.000725  0.151220  0.221123       0.995768   \n",
       "Humidity(%)       -0.076105 -0.012373 -0.055665 -0.233669      -0.621983   \n",
       "Wind_Speed(mph)   -0.133699 -0.009052 -0.087484  0.253412       0.306906   \n",
       "Visibility(mi)    -0.041044  0.072505 -0.003166  0.096325       0.161986   \n",
       "\n",
       "                   Precipitation(in)  Temperature(F)  Humidity(%)  \\\n",
       "Year                       -0.287432       -0.075270    -0.076105   \n",
       "Day                        -0.044035       -0.000725    -0.012373   \n",
       "Month                      -0.065471        0.151220    -0.055665   \n",
       "Hour                       -0.046043        0.221123    -0.233669   \n",
       "Wind_Chill(F)              -0.139058        0.995768    -0.621983   \n",
       "Precipitation(in)           1.000000       -0.142128     0.244594   \n",
       "Temperature(F)             -0.142128        1.000000    -0.590995   \n",
       "Humidity(%)                 0.244594       -0.590995     1.000000   \n",
       "Wind_Speed(mph)             0.082269        0.278922    -0.191177   \n",
       "Visibility(mi)             -0.498582        0.156621    -0.306502   \n",
       "\n",
       "                   Wind_Speed(mph)  Visibility(mi)  \n",
       "Year                     -0.133699       -0.041044  \n",
       "Day                      -0.009052        0.072505  \n",
       "Month                    -0.087484       -0.003166  \n",
       "Hour                      0.253412        0.096325  \n",
       "Wind_Chill(F)             0.306906        0.161986  \n",
       "Precipitation(in)         0.082269       -0.498582  \n",
       "Temperature(F)            0.278922        0.156621  \n",
       "Humidity(%)              -0.191177       -0.306502  \n",
       "Wind_Speed(mph)           1.000000        0.057277  \n",
       "Visibility(mi)            0.057277        1.000000  "
      ]
     },
     "execution_count": 8,
     "metadata": {},
     "output_type": "execute_result"
    }
   ],
   "source": [
    "# read weather file\n",
    "df_weather = pd.read_csv(\n",
    "    os.path.join(dataset_path, \"weather-sfcsv.csv\"), index_col=None\n",
    ")\n",
    "df_weather.head(15)\n",
    "df_weather[\"date\"] = (\n",
    "    df_weather[\"Year\"].astype(str)\n",
    "    + \"-\"\n",
    "    + df_weather[\"Month\"].astype(str)\n",
    "    + \"-\"\n",
    "    + df_weather[\"Day\"].astype(str)\n",
    "    + \" \"\n",
    "    + df_weather[\"Hour\"].astype(str)\n",
    "    + \":00:00\"\n",
    ")\n",
    "df_weather[\"date\"] = pd.to_datetime(df_weather[\"date\"])\n",
    "df_weather.corr()\n"
   ]
  },
  {
   "cell_type": "code",
   "execution_count": 9,
   "id": "a986a0d3",
   "metadata": {
    "execution": {
     "iopub.execute_input": "2021-07-27T16:49:40.150471Z",
     "iopub.status.busy": "2021-07-27T16:49:40.149861Z",
     "iopub.status.idle": "2021-07-27T16:49:40.158199Z",
     "shell.execute_reply": "2021-07-27T16:49:40.157689Z"
    },
    "papermill": {
     "duration": 0.037598,
     "end_time": "2021-07-27T16:49:40.158343",
     "exception": false,
     "start_time": "2021-07-27T16:49:40.120745",
     "status": "completed"
    },
    "tags": []
   },
   "outputs": [],
   "source": [
    "for col in df_weather.drop(columns=[\"Year\", \"Hour\", \"Day\", \"Month\", \"Weather_Condition\", \"Selected\", \"Wind_Speed(mph)\"]).columns:\n",
    "    df_weather[col] = df_weather[col].fillna(df_weather[col].median())"
   ]
  },
  {
   "cell_type": "code",
   "execution_count": 10,
   "id": "4b75064f",
   "metadata": {
    "execution": {
     "iopub.execute_input": "2021-07-27T16:49:40.207614Z",
     "iopub.status.busy": "2021-07-27T16:49:40.206968Z",
     "iopub.status.idle": "2021-07-27T16:49:40.210279Z",
     "shell.execute_reply": "2021-07-27T16:49:40.210884Z"
    },
    "papermill": {
     "duration": 0.030194,
     "end_time": "2021-07-27T16:49:40.211055",
     "exception": false,
     "start_time": "2021-07-27T16:49:40.180861",
     "status": "completed"
    },
    "tags": []
   },
   "outputs": [],
   "source": [
    "# better naming convention\n",
    "# df.columns = [\n",
    "#     \"id\", \"lat\", \"lng\", \"bump\", \"distance_mile\", \"is_crossing\", \n",
    "#     \"is_give_way\", \"is_junction\", \"is_no_exit\", \"is_railway\",\n",
    "#     \"is_roundabout\", \"is_stop\", \"is_amenity\", \"side\", \"severity\",\n",
    "#     \"timestamp\", \"date\"\n",
    "# ]\n",
    "# df_weather.columns = [\n",
    "#     \"year\", \"day\", \"month\", \"hour\", \"weather_condition\", \n",
    "#     \"wind_chill_fahr\", \"perceptation_inch\", \"temperature_fahr\",\n",
    "#     \"humidity_percent\", \"wind_spd_mi_per_hr\", \"visibility_miles\",\n",
    "#     \"selected\", \"date\"\n",
    "# ]"
   ]
  },
  {
   "cell_type": "code",
   "execution_count": 11,
   "id": "692cd316",
   "metadata": {
    "execution": {
     "iopub.execute_input": "2021-07-27T16:49:40.260572Z",
     "iopub.status.busy": "2021-07-27T16:49:40.259918Z",
     "iopub.status.idle": "2021-07-27T16:49:40.274632Z",
     "shell.execute_reply": "2021-07-27T16:49:40.275057Z"
    },
    "papermill": {
     "duration": 0.04124,
     "end_time": "2021-07-27T16:49:40.275294",
     "exception": false,
     "start_time": "2021-07-27T16:49:40.234054",
     "status": "completed"
    },
    "tags": []
   },
   "outputs": [],
   "source": [
    "df_weather_averaged = (\n",
    "    df_weather.groupby(\"date\").mean().drop(columns=[\"Year\", \"Day\", \"Month\", \"Hour\", \"Wind_Speed(mph)\"]).dropna().drop_duplicates()\n",
    ")\n"
   ]
  },
  {
   "cell_type": "code",
   "execution_count": 12,
   "id": "5b24471b",
   "metadata": {
    "execution": {
     "iopub.execute_input": "2021-07-27T16:49:40.324551Z",
     "iopub.status.busy": "2021-07-27T16:49:40.323812Z",
     "iopub.status.idle": "2021-07-27T16:49:40.365262Z",
     "shell.execute_reply": "2021-07-27T16:49:40.365788Z"
    },
    "papermill": {
     "duration": 0.068046,
     "end_time": "2021-07-27T16:49:40.365966",
     "exception": false,
     "start_time": "2021-07-27T16:49:40.297920",
     "status": "completed"
    },
    "tags": []
   },
   "outputs": [
    {
     "data": {
      "text/plain": [
       "(3420, 13)"
      ]
     },
     "execution_count": 12,
     "metadata": {},
     "output_type": "execute_result"
    }
   ],
   "source": [
    "timestamp = df[\"timestamp\"].apply(\n",
    "    lambda ts: f\"{ts.year}-{ts.month}-{ts.day} {ts.hour}:00:00\"\n",
    ")\n",
    "timestamp = pd.to_datetime(timestamp)\n",
    "df[\"date\"] = timestamp\n",
    "final_df = pd.merge(df, df_weather_averaged, how=\"inner\", on=\"date\").drop(\n",
    "    columns=[\"date\"]\n",
    ")\n",
    "final_df.shape\n"
   ]
  },
  {
   "cell_type": "code",
   "execution_count": 13,
   "id": "4fbabb21",
   "metadata": {
    "execution": {
     "iopub.execute_input": "2021-07-27T16:49:40.417644Z",
     "iopub.status.busy": "2021-07-27T16:49:40.417000Z",
     "iopub.status.idle": "2021-07-27T16:49:40.432563Z",
     "shell.execute_reply": "2021-07-27T16:49:40.432984Z"
    },
    "papermill": {
     "duration": 0.044047,
     "end_time": "2021-07-27T16:49:40.433153",
     "exception": false,
     "start_time": "2021-07-27T16:49:40.389106",
     "status": "completed"
    },
    "tags": []
   },
   "outputs": [
    {
     "data": {
      "text/plain": [
       "0   2015-05-25\n",
       "1   2013-01-01\n",
       "2   2019-05-27\n",
       "3   2013-11-28\n",
       "4   2015-12-25\n",
       "dtype: datetime64[ns]"
      ]
     },
     "execution_count": 13,
     "metadata": {},
     "output_type": "execute_result"
    }
   ],
   "source": [
    "# only interested in dates from 'holidays.xml'\n",
    "holidays_dom = minidom.parse(os.path.join(dataset_path, \"holidays.xml\")).getElementsByTagName(\"date\")\n",
    "\n",
    "holidays = {h.firstChild.data for h in holidays_dom}\n",
    "df_holidays = pd.to_datetime(pd.Series(data=list(holidays)))\n",
    "df_holidays.head()"
   ]
  },
  {
   "cell_type": "code",
   "execution_count": 14,
   "id": "ff2ca1c3",
   "metadata": {
    "execution": {
     "iopub.execute_input": "2021-07-27T16:49:40.485936Z",
     "iopub.status.busy": "2021-07-27T16:49:40.484718Z",
     "iopub.status.idle": "2021-07-27T16:49:40.504199Z",
     "shell.execute_reply": "2021-07-27T16:49:40.504658Z"
    },
    "papermill": {
     "duration": 0.047714,
     "end_time": "2021-07-27T16:49:40.504849",
     "exception": false,
     "start_time": "2021-07-27T16:49:40.457135",
     "status": "completed"
    },
    "tags": []
   },
   "outputs": [],
   "source": [
    "to_date = lambda date_time: date_time.date()\n",
    "dates_holidays = df_holidays.apply(to_date)\n",
    "final_df[\"is_holiday\"] = (\n",
    "    final_df[\"timestamp\"].apply(to_date).isin(dates_holidays)\n",
    ")\n"
   ]
  },
  {
   "cell_type": "code",
   "execution_count": 15,
   "id": "fbb3074e",
   "metadata": {
    "execution": {
     "iopub.execute_input": "2021-07-27T16:49:40.556038Z",
     "iopub.status.busy": "2021-07-27T16:49:40.554910Z",
     "iopub.status.idle": "2021-07-27T16:49:40.575780Z",
     "shell.execute_reply": "2021-07-27T16:49:40.576798Z"
    },
    "papermill": {
     "duration": 0.048479,
     "end_time": "2021-07-27T16:49:40.577038",
     "exception": false,
     "start_time": "2021-07-27T16:49:40.528559",
     "status": "completed"
    },
    "tags": []
   },
   "outputs": [
    {
     "name": "stdout",
     "output_type": "stream",
     "text": [
      "0.05336904999965889 0.9967729160684105\n"
     ]
    }
   ],
   "source": [
    "# FIXME\n",
    "# df = final_df.drop(columns=[\"timestamp\", \"Stop\", \"Junction\", \"is_holiday\"])\n",
    "# df.corr()\n",
    "contingency = pd.crosstab(final_df[\"Severity\"], final_df[\"is_holiday\"], normalize='index')\n",
    "# print(contingency)\n",
    "chi2, p_val, _, _ = chi2_contingency(contingency)\n",
    "print(chi2, p_val)"
   ]
  },
  {
   "cell_type": "code",
   "execution_count": 16,
   "id": "598e34b3",
   "metadata": {
    "execution": {
     "iopub.execute_input": "2021-07-27T16:49:40.647411Z",
     "iopub.status.busy": "2021-07-27T16:49:40.645914Z",
     "iopub.status.idle": "2021-07-27T16:49:40.651289Z",
     "shell.execute_reply": "2021-07-27T16:49:40.651732Z"
    },
    "papermill": {
     "duration": 0.050043,
     "end_time": "2021-07-27T16:49:40.651914",
     "exception": false,
     "start_time": "2021-07-27T16:49:40.601871",
     "status": "completed"
    },
    "tags": []
   },
   "outputs": [
    {
     "data": {
      "text/html": [
       "<div>\n",
       "<style scoped>\n",
       "    .dataframe tbody tr th:only-of-type {\n",
       "        vertical-align: middle;\n",
       "    }\n",
       "\n",
       "    .dataframe tbody tr th {\n",
       "        vertical-align: top;\n",
       "    }\n",
       "\n",
       "    .dataframe thead th {\n",
       "        text-align: right;\n",
       "    }\n",
       "</style>\n",
       "<table border=\"1\" class=\"dataframe\">\n",
       "  <thead>\n",
       "    <tr style=\"text-align: right;\">\n",
       "      <th></th>\n",
       "      <th>ID</th>\n",
       "      <th>Lng</th>\n",
       "      <th>Lat</th>\n",
       "      <th>Distance(mi)</th>\n",
       "      <th>Stop</th>\n",
       "      <th>Junction</th>\n",
       "      <th>Severity</th>\n",
       "      <th>Wind_Chill(F)</th>\n",
       "      <th>Precipitation(in)</th>\n",
       "      <th>Temperature(F)</th>\n",
       "      <th>Humidity(%)</th>\n",
       "      <th>Visibility(mi)</th>\n",
       "      <th>is_holiday</th>\n",
       "    </tr>\n",
       "  </thead>\n",
       "  <tbody>\n",
       "    <tr>\n",
       "      <th>0</th>\n",
       "      <td>0</td>\n",
       "      <td>-122.405660</td>\n",
       "      <td>37.762150</td>\n",
       "      <td>0.044</td>\n",
       "      <td>False</td>\n",
       "      <td>False</td>\n",
       "      <td>2</td>\n",
       "      <td>59.0</td>\n",
       "      <td>0.0</td>\n",
       "      <td>65.0</td>\n",
       "      <td>56.0</td>\n",
       "      <td>10.0</td>\n",
       "      <td>False</td>\n",
       "    </tr>\n",
       "    <tr>\n",
       "      <th>1</th>\n",
       "      <td>803</td>\n",
       "      <td>-122.405660</td>\n",
       "      <td>37.762150</td>\n",
       "      <td>0.044</td>\n",
       "      <td>False</td>\n",
       "      <td>False</td>\n",
       "      <td>2</td>\n",
       "      <td>59.0</td>\n",
       "      <td>0.0</td>\n",
       "      <td>65.0</td>\n",
       "      <td>56.0</td>\n",
       "      <td>10.0</td>\n",
       "      <td>False</td>\n",
       "    </tr>\n",
       "    <tr>\n",
       "      <th>2</th>\n",
       "      <td>4522</td>\n",
       "      <td>-122.403030</td>\n",
       "      <td>37.752320</td>\n",
       "      <td>0.306</td>\n",
       "      <td>False</td>\n",
       "      <td>False</td>\n",
       "      <td>2</td>\n",
       "      <td>59.0</td>\n",
       "      <td>0.0</td>\n",
       "      <td>65.0</td>\n",
       "      <td>56.0</td>\n",
       "      <td>10.0</td>\n",
       "      <td>False</td>\n",
       "    </tr>\n",
       "    <tr>\n",
       "      <th>3</th>\n",
       "      <td>1</td>\n",
       "      <td>-122.448254</td>\n",
       "      <td>37.719157</td>\n",
       "      <td>0.000</td>\n",
       "      <td>False</td>\n",
       "      <td>False</td>\n",
       "      <td>2</td>\n",
       "      <td>58.0</td>\n",
       "      <td>0.0</td>\n",
       "      <td>58.0</td>\n",
       "      <td>80.5</td>\n",
       "      <td>10.0</td>\n",
       "      <td>False</td>\n",
       "    </tr>\n",
       "    <tr>\n",
       "      <th>4</th>\n",
       "      <td>3174</td>\n",
       "      <td>-122.448260</td>\n",
       "      <td>37.719150</td>\n",
       "      <td>0.025</td>\n",
       "      <td>False</td>\n",
       "      <td>False</td>\n",
       "      <td>3</td>\n",
       "      <td>58.0</td>\n",
       "      <td>0.0</td>\n",
       "      <td>58.0</td>\n",
       "      <td>80.5</td>\n",
       "      <td>10.0</td>\n",
       "      <td>False</td>\n",
       "    </tr>\n",
       "  </tbody>\n",
       "</table>\n",
       "</div>"
      ],
      "text/plain": [
       "     ID         Lng        Lat  Distance(mi)   Stop  Junction  Severity  \\\n",
       "0     0 -122.405660  37.762150         0.044  False     False         2   \n",
       "1   803 -122.405660  37.762150         0.044  False     False         2   \n",
       "2  4522 -122.403030  37.752320         0.306  False     False         2   \n",
       "3     1 -122.448254  37.719157         0.000  False     False         2   \n",
       "4  3174 -122.448260  37.719150         0.025  False     False         3   \n",
       "\n",
       "   Wind_Chill(F)  Precipitation(in)  Temperature(F)  Humidity(%)  \\\n",
       "0           59.0                0.0            65.0         56.0   \n",
       "1           59.0                0.0            65.0         56.0   \n",
       "2           59.0                0.0            65.0         56.0   \n",
       "3           58.0                0.0            58.0         80.5   \n",
       "4           58.0                0.0            58.0         80.5   \n",
       "\n",
       "   Visibility(mi)  is_holiday  \n",
       "0            10.0       False  \n",
       "1            10.0       False  \n",
       "2            10.0       False  \n",
       "3            10.0       False  \n",
       "4            10.0       False  "
      ]
     },
     "execution_count": 16,
     "metadata": {},
     "output_type": "execute_result"
    }
   ],
   "source": [
    "df = final_df.drop(columns=[\"timestamp\"])\n",
    "df.head()\n"
   ]
  },
  {
   "cell_type": "code",
   "execution_count": 17,
   "id": "2c1929ea",
   "metadata": {
    "execution": {
     "iopub.execute_input": "2021-07-27T16:49:40.708066Z",
     "iopub.status.busy": "2021-07-27T16:49:40.707087Z",
     "iopub.status.idle": "2021-07-27T16:49:40.726815Z",
     "shell.execute_reply": "2021-07-27T16:49:40.726086Z"
    },
    "papermill": {
     "duration": 0.05021,
     "end_time": "2021-07-27T16:49:40.727011",
     "exception": false,
     "start_time": "2021-07-27T16:49:40.676801",
     "status": "completed"
    },
    "tags": []
   },
   "outputs": [
    {
     "name": "stdout",
     "output_type": "stream",
     "text": [
      "Lng:\t5364.928687029728,\t0.0\n",
      "Lat:\t5364.930493065049,\t0.0\n",
      "Distance(mi):\t5283.960455578024,\t0.0\n",
      "Wind_Chill(F):\t5428.459499220841,\t0.0\n",
      "Precipitation(in):\t5900.862728691429,\t0.0\n",
      "Temperature(F):\t5365.042331483155,\t0.0\n",
      "Humidity(%):\t5365.007821892016,\t0.0\n",
      "Visibility(mi):\t5105.651296552072,\t0.0\n"
     ]
    }
   ],
   "source": [
    "for col in [\"Lng\", \"Lat\", \"Distance(mi)\", \"Wind_Chill(F)\", \"Precipitation(in)\", \"Temperature(F)\", \"Humidity(%)\", \"Visibility(mi)\"]:\n",
    "    stat, p_val = kruskal(df[\"Severity\"], df[col], nan_policy=\"omit\")\n",
    "    print(f\"{col}:\\t{stat},\\t{p_val}\")"
   ]
  },
  {
   "cell_type": "code",
   "execution_count": 18,
   "id": "8361ebec",
   "metadata": {
    "execution": {
     "iopub.execute_input": "2021-07-27T16:49:40.784219Z",
     "iopub.status.busy": "2021-07-27T16:49:40.783183Z",
     "iopub.status.idle": "2021-07-27T16:49:40.793784Z",
     "shell.execute_reply": "2021-07-27T16:49:40.794261Z"
    },
    "papermill": {
     "duration": 0.04216,
     "end_time": "2021-07-27T16:49:40.794448",
     "exception": false,
     "start_time": "2021-07-27T16:49:40.752288",
     "status": "completed"
    },
    "tags": []
   },
   "outputs": [
    {
     "name": "stdout",
     "output_type": "stream",
     "text": [
      "29146.2167494013 0.0\n"
     ]
    }
   ],
   "source": [
    "stat, p_val = kruskal(\n",
    "    df[\"Severity\"], df[\"Lng\"], df[\"Lat\"], df[\"Distance(mi)\"], \n",
    "    df[\"Wind_Chill(F)\"], df[\"Precipitation(in)\"], df[\"Temperature(F)\"], df[\"Humidity(%)\"], df[\"Visibility(mi)\"]\n",
    ")\n",
    "print(stat, p_val)"
   ]
  },
  {
   "cell_type": "markdown",
   "id": "417b2642",
   "metadata": {
    "papermill": {
     "duration": 0.03115,
     "end_time": "2021-07-27T16:49:40.852589",
     "exception": false,
     "start_time": "2021-07-27T16:49:40.821439",
     "status": "completed"
    },
    "tags": []
   },
   "source": [
    "The output shows desciptive statistics for the numerical features, `Lat`, `Lng`, `Distance(mi)`, and `Severity`. I'll use the numerical features to demonstrate how to train the model and make submissions. **However you shouldn't use the numerical features only to make the final submission if you want to make it to the top of the leaderboard.**"
   ]
  },
  {
   "cell_type": "markdown",
   "id": "ea8db6f1",
   "metadata": {
    "papermill": {
     "duration": 0.030105,
     "end_time": "2021-07-27T16:49:40.918025",
     "exception": false,
     "start_time": "2021-07-27T16:49:40.887920",
     "status": "completed"
    },
    "tags": []
   },
   "source": [
    "## Data Splitting\n",
    "\n",
    "Now it's time to split the dataset for the training step. Typically the dataset is split into 3 subsets, namely, the training, validation and test sets. In our case, the test set is already predefined. So we'll split the \"training\" set into training and validation sets with 0.8:0.2 ratio. \n",
    "\n",
    "*Note: a good way to generate reproducible results is to set the seed to the algorithms that depends on randomization. This is done with the argument `random_state` in the following command* "
   ]
  },
  {
   "cell_type": "code",
   "execution_count": 19,
   "id": "0119e6e7",
   "metadata": {
    "execution": {
     "iopub.execute_input": "2021-07-27T16:49:40.979750Z",
     "iopub.status.busy": "2021-07-27T16:49:40.978841Z",
     "iopub.status.idle": "2021-07-27T16:49:41.189432Z",
     "shell.execute_reply": "2021-07-27T16:49:41.188901Z"
    },
    "papermill": {
     "duration": 0.238757,
     "end_time": "2021-07-27T16:49:41.189583",
     "exception": false,
     "start_time": "2021-07-27T16:49:40.950826",
     "status": "completed"
    },
    "tags": []
   },
   "outputs": [],
   "source": [
    "from sklearn.model_selection import train_test_split\n",
    "\n",
    "train_df, val_df = train_test_split(\n",
    "    df, test_size=0.2, random_state=42 , stratify=df[\"Severity\"]\n",
    ")  # Try adding `stratify` here\n",
    "\n",
    "X_train = train_df.drop(columns=[\"ID\", \"Severity\"])\n",
    "y_train = train_df[\"Severity\"]\n",
    "\n",
    "X_val = val_df.drop(columns=[\"ID\", \"Severity\"])\n",
    "y_val = val_df[\"Severity\"]\n"
   ]
  },
  {
   "cell_type": "markdown",
   "id": "d51b4534",
   "metadata": {
    "papermill": {
     "duration": 0.024767,
     "end_time": "2021-07-27T16:49:41.239631",
     "exception": false,
     "start_time": "2021-07-27T16:49:41.214864",
     "status": "completed"
    },
    "tags": []
   },
   "source": [
    "As pointed out eariler, I'll use the numerical features to train the classifier. **However, you shouldn't use the numerical features only to make the final submission if you want to make it to the top of the leaderboard.** "
   ]
  },
  {
   "cell_type": "markdown",
   "id": "a79cc2db",
   "metadata": {
    "papermill": {
     "duration": 0.024354,
     "end_time": "2021-07-27T16:49:41.289049",
     "exception": false,
     "start_time": "2021-07-27T16:49:41.264695",
     "status": "completed"
    },
    "tags": []
   },
   "source": [
    "## Model Training\n",
    "\n",
    "Let's train a model with the data! We'll train a Random Forest Classifier to demonstrate the process of making submissions. "
   ]
  },
  {
   "cell_type": "code",
   "execution_count": 20,
   "id": "5775e650",
   "metadata": {
    "execution": {
     "iopub.execute_input": "2021-07-27T16:49:41.343870Z",
     "iopub.status.busy": "2021-07-27T16:49:41.343130Z",
     "iopub.status.idle": "2021-07-27T16:49:41.744904Z",
     "shell.execute_reply": "2021-07-27T16:49:41.745334Z"
    },
    "papermill": {
     "duration": 0.431491,
     "end_time": "2021-07-27T16:49:41.745528",
     "exception": false,
     "start_time": "2021-07-27T16:49:41.314037",
     "status": "completed"
    },
    "tags": []
   },
   "outputs": [],
   "source": [
    "from sklearn.ensemble import RandomForestClassifier\n",
    "\n",
    "# Create an instance of the classifier\n",
    "classifier = RandomForestClassifier(max_depth=2, random_state=0)\n",
    "\n",
    "# Train the classifier\n",
    "classifier = classifier.fit(X_train, y_train)\n"
   ]
  },
  {
   "cell_type": "markdown",
   "id": "25e21763",
   "metadata": {
    "papermill": {
     "duration": 0.024623,
     "end_time": "2021-07-27T16:49:41.795170",
     "exception": false,
     "start_time": "2021-07-27T16:49:41.770547",
     "status": "completed"
    },
    "tags": []
   },
   "source": [
    "Now let's test our classifier on the validation dataset and see the accuracy."
   ]
  },
  {
   "cell_type": "code",
   "execution_count": 21,
   "id": "0d4cfe78",
   "metadata": {
    "execution": {
     "iopub.execute_input": "2021-07-27T16:49:41.853575Z",
     "iopub.status.busy": "2021-07-27T16:49:41.852591Z",
     "iopub.status.idle": "2021-07-27T16:49:41.871583Z",
     "shell.execute_reply": "2021-07-27T16:49:41.871112Z"
    },
    "papermill": {
     "duration": 0.051396,
     "end_time": "2021-07-27T16:49:41.871726",
     "exception": false,
     "start_time": "2021-07-27T16:49:41.820330",
     "status": "completed"
    },
    "tags": []
   },
   "outputs": [
    {
     "name": "stdout",
     "output_type": "stream",
     "text": [
      "The accuracy of the classifier on the validation set is  0.7514619883040936\n"
     ]
    }
   ],
   "source": [
    "print(\n",
    "    \"The accuracy of the classifier on the validation set is \",\n",
    "    (classifier.score(X_val, y_val)),\n",
    ")\n"
   ]
  },
  {
   "cell_type": "markdown",
   "id": "c63a60ac",
   "metadata": {
    "papermill": {
     "duration": 0.024753,
     "end_time": "2021-07-27T16:49:41.922155",
     "exception": false,
     "start_time": "2021-07-27T16:49:41.897402",
     "status": "completed"
    },
    "tags": []
   },
   "source": [
    "Well. That's a good start, right? A classifier that predicts all examples' `Severity` as 2 will get around 0.63. You should get better score as you add more features and do better data preprocessing."
   ]
  },
  {
   "cell_type": "markdown",
   "id": "e11882c7",
   "metadata": {
    "papermill": {
     "duration": 0.024863,
     "end_time": "2021-07-27T16:49:41.974013",
     "exception": false,
     "start_time": "2021-07-27T16:49:41.949150",
     "status": "completed"
    },
    "tags": []
   },
   "source": [
    "## Submission File Generation\n",
    "\n",
    "We have built a model and we'd like to submit our predictions on the test set! In order to do that, we'll load the test set, predict the class and save the submission file. \n",
    "\n",
    "First, we'll load the data."
   ]
  },
  {
   "cell_type": "code",
   "execution_count": 22,
   "id": "a19d17be",
   "metadata": {
    "execution": {
     "iopub.execute_input": "2021-07-27T16:49:42.030853Z",
     "iopub.status.busy": "2021-07-27T16:49:42.030243Z",
     "iopub.status.idle": "2021-07-27T16:49:42.060462Z",
     "shell.execute_reply": "2021-07-27T16:49:42.059879Z"
    },
    "papermill": {
     "duration": 0.061517,
     "end_time": "2021-07-27T16:49:42.060616",
     "exception": false,
     "start_time": "2021-07-27T16:49:41.999099",
     "status": "completed"
    },
    "tags": []
   },
   "outputs": [
    {
     "data": {
      "text/html": [
       "<div>\n",
       "<style scoped>\n",
       "    .dataframe tbody tr th:only-of-type {\n",
       "        vertical-align: middle;\n",
       "    }\n",
       "\n",
       "    .dataframe tbody tr th {\n",
       "        vertical-align: top;\n",
       "    }\n",
       "\n",
       "    .dataframe thead th {\n",
       "        text-align: right;\n",
       "    }\n",
       "</style>\n",
       "<table border=\"1\" class=\"dataframe\">\n",
       "  <thead>\n",
       "    <tr style=\"text-align: right;\">\n",
       "      <th></th>\n",
       "      <th>ID</th>\n",
       "      <th>Lat</th>\n",
       "      <th>Lng</th>\n",
       "      <th>Bump</th>\n",
       "      <th>Distance(mi)</th>\n",
       "      <th>Crossing</th>\n",
       "      <th>Give_Way</th>\n",
       "      <th>Junction</th>\n",
       "      <th>No_Exit</th>\n",
       "      <th>Railway</th>\n",
       "      <th>Roundabout</th>\n",
       "      <th>Stop</th>\n",
       "      <th>Amenity</th>\n",
       "      <th>Side</th>\n",
       "      <th>timestamp</th>\n",
       "    </tr>\n",
       "  </thead>\n",
       "  <tbody>\n",
       "    <tr>\n",
       "      <th>0</th>\n",
       "      <td>6407</td>\n",
       "      <td>37.786060</td>\n",
       "      <td>-122.390900</td>\n",
       "      <td>False</td>\n",
       "      <td>0.039</td>\n",
       "      <td>False</td>\n",
       "      <td>False</td>\n",
       "      <td>True</td>\n",
       "      <td>False</td>\n",
       "      <td>False</td>\n",
       "      <td>False</td>\n",
       "      <td>False</td>\n",
       "      <td>False</td>\n",
       "      <td>R</td>\n",
       "      <td>2016-04-04 19:20:31</td>\n",
       "    </tr>\n",
       "    <tr>\n",
       "      <th>1</th>\n",
       "      <td>6408</td>\n",
       "      <td>37.769609</td>\n",
       "      <td>-122.415057</td>\n",
       "      <td>False</td>\n",
       "      <td>0.202</td>\n",
       "      <td>False</td>\n",
       "      <td>False</td>\n",
       "      <td>False</td>\n",
       "      <td>False</td>\n",
       "      <td>False</td>\n",
       "      <td>False</td>\n",
       "      <td>False</td>\n",
       "      <td>False</td>\n",
       "      <td>R</td>\n",
       "      <td>2020-10-28 11:51:00</td>\n",
       "    </tr>\n",
       "    <tr>\n",
       "      <th>2</th>\n",
       "      <td>6409</td>\n",
       "      <td>37.807495</td>\n",
       "      <td>-122.476021</td>\n",
       "      <td>False</td>\n",
       "      <td>0.000</td>\n",
       "      <td>False</td>\n",
       "      <td>False</td>\n",
       "      <td>False</td>\n",
       "      <td>False</td>\n",
       "      <td>False</td>\n",
       "      <td>False</td>\n",
       "      <td>False</td>\n",
       "      <td>False</td>\n",
       "      <td>R</td>\n",
       "      <td>2019-09-09 07:36:45</td>\n",
       "    </tr>\n",
       "    <tr>\n",
       "      <th>3</th>\n",
       "      <td>6410</td>\n",
       "      <td>37.761818</td>\n",
       "      <td>-122.405869</td>\n",
       "      <td>False</td>\n",
       "      <td>0.000</td>\n",
       "      <td>False</td>\n",
       "      <td>False</td>\n",
       "      <td>True</td>\n",
       "      <td>False</td>\n",
       "      <td>False</td>\n",
       "      <td>False</td>\n",
       "      <td>False</td>\n",
       "      <td>False</td>\n",
       "      <td>R</td>\n",
       "      <td>2019-08-06 15:46:25</td>\n",
       "    </tr>\n",
       "    <tr>\n",
       "      <th>4</th>\n",
       "      <td>6411</td>\n",
       "      <td>37.732350</td>\n",
       "      <td>-122.414100</td>\n",
       "      <td>False</td>\n",
       "      <td>0.670</td>\n",
       "      <td>False</td>\n",
       "      <td>False</td>\n",
       "      <td>False</td>\n",
       "      <td>False</td>\n",
       "      <td>False</td>\n",
       "      <td>False</td>\n",
       "      <td>False</td>\n",
       "      <td>False</td>\n",
       "      <td>R</td>\n",
       "      <td>2018-10-17 09:54:58</td>\n",
       "    </tr>\n",
       "  </tbody>\n",
       "</table>\n",
       "</div>"
      ],
      "text/plain": [
       "     ID        Lat         Lng   Bump  Distance(mi)  Crossing  Give_Way  \\\n",
       "0  6407  37.786060 -122.390900  False         0.039     False     False   \n",
       "1  6408  37.769609 -122.415057  False         0.202     False     False   \n",
       "2  6409  37.807495 -122.476021  False         0.000     False     False   \n",
       "3  6410  37.761818 -122.405869  False         0.000     False     False   \n",
       "4  6411  37.732350 -122.414100  False         0.670     False     False   \n",
       "\n",
       "   Junction  No_Exit  Railway  Roundabout   Stop  Amenity Side  \\\n",
       "0      True    False    False       False  False    False    R   \n",
       "1     False    False    False       False  False    False    R   \n",
       "2     False    False    False       False  False    False    R   \n",
       "3      True    False    False       False  False    False    R   \n",
       "4     False    False    False       False  False    False    R   \n",
       "\n",
       "             timestamp  \n",
       "0  2016-04-04 19:20:31  \n",
       "1  2020-10-28 11:51:00  \n",
       "2  2019-09-09 07:36:45  \n",
       "3  2019-08-06 15:46:25  \n",
       "4  2018-10-17 09:54:58  "
      ]
     },
     "execution_count": 22,
     "metadata": {},
     "output_type": "execute_result"
    }
   ],
   "source": [
    "test_df = pd.read_csv(os.path.join(dataset_path, \"test.csv\"))\n",
    "test_df.head()\n"
   ]
  },
  {
   "cell_type": "markdown",
   "id": "7eea0788",
   "metadata": {
    "papermill": {
     "duration": 0.026052,
     "end_time": "2021-07-27T16:49:42.112643",
     "exception": false,
     "start_time": "2021-07-27T16:49:42.086591",
     "status": "completed"
    },
    "tags": []
   },
   "source": [
    "Note that the test set has the same features and doesn't have the `Severity` column.\n",
    "At this stage one must **NOT** forget to apply the same processing done on the training set on the features of the test set.\n",
    "\n",
    "Now we'll add `Severity` column to the test `DataFrame` and add the values of the predicted class to it.\n",
    "\n",
    "**I'll select the numerical features here as I did in the training set. DO NOT forget to change this step as you change the preprocessing of the training data.**"
   ]
  },
  {
   "cell_type": "code",
   "execution_count": 23,
   "id": "1b4b3f4c",
   "metadata": {
    "execution": {
     "iopub.execute_input": "2021-07-27T16:49:42.167544Z",
     "iopub.status.busy": "2021-07-27T16:49:42.166860Z",
     "iopub.status.idle": "2021-07-27T16:49:42.176186Z",
     "shell.execute_reply": "2021-07-27T16:49:42.176698Z"
    },
    "papermill": {
     "duration": 0.038382,
     "end_time": "2021-07-27T16:49:42.176869",
     "exception": false,
     "start_time": "2021-07-27T16:49:42.138487",
     "status": "completed"
    },
    "tags": []
   },
   "outputs": [],
   "source": [
    "def create_date_series(data_frame: pd.DataFrame) -> pd.Series:\n",
    "    \"\"\"\n",
    "    Args:\n",
    "        data_frame:\n",
    "            a dataframe with columns:\n",
    "    Return:\n",
    "        a series:\n",
    "    \"\"\"\n",
    "    date = data_frame[\"timestamp\"].apply(\n",
    "        lambda ts: f\"{ts.year}-{ts.month}-{ts.day} {ts.hour}:00:00\"\n",
    "    )\n",
    "    return pd.to_datetime(date)\n",
    "\n",
    "\n",
    "def get_holiday_series(data_frame: pd.DataFrame) -> pd.Series:\n",
    "    \"\"\"\n",
    "    Args:\n",
    "        data_frame:\n",
    "            a dataframe with columns:\n",
    "    Return:\n",
    "        a series:\n",
    "    \"\"\"\n",
    "    return data_frame[\"timestamp\"].apply(to_date).isin(dates_holidays)\n",
    "\n",
    "\n",
    "def prepare_set(data_frame: pd.DataFrame) -> pd.DataFrame:\n",
    "    \"\"\"\n",
    "    Args:\n",
    "        data_frame:\n",
    "            a dataframe with columns:\n",
    "    Return:\n",
    "        a dataframe with columns:\n",
    "    \"\"\"\n",
    "    data_frame = data_frame.dropna().drop_duplicates()\n",
    "#     df[\"timestamp\"] = pd.to_datetime(df[\"timestamp\"]).dropna().drop_duplicates()\n",
    "    data_frame[\"timestamp\"] = pd.to_datetime(data_frame[\"timestamp\"])\n",
    "    data_frame[\"date\"] = create_date_series(data_frame)\n",
    "    data_frame[\"is_holiday\"] = get_holiday_series(data_frame)\n",
    "    data_frame = pd.merge(data_frame, df_weather_averaged, on=\"date\", how=\"left\")\n",
    "    data_frame = (\n",
    "        data_frame.drop(columns=[\"ID\", \"Bump\", \"Roundabout\", \"timestamp\", \"date\"])\n",
    "    )\n",
    "    data_frame[\"Side\"] = (data_frame[\"Side\"] == \"R\")\n",
    "    for col in df_weather_averaged.columns:\n",
    "        data_frame[col].fillna(data_frame[col].median(), inplace=True)    \n",
    "    return data_frame[[\"Lng\", \"Lat\", \"Distance(mi)\", \"Stop\", \"Junction\", \"Wind_Chill(F)\", \"Precipitation(in)\", \"Temperature(F)\", \"Humidity(%)\", \"Visibility(mi)\", \"is_holiday\"]]\n"
   ]
  },
  {
   "cell_type": "code",
   "execution_count": 24,
   "id": "33ec014a",
   "metadata": {
    "execution": {
     "iopub.execute_input": "2021-07-27T16:49:42.233154Z",
     "iopub.status.busy": "2021-07-27T16:49:42.232588Z",
     "iopub.status.idle": "2021-07-27T16:49:42.308824Z",
     "shell.execute_reply": "2021-07-27T16:49:42.309249Z"
    },
    "papermill": {
     "duration": 0.105822,
     "end_time": "2021-07-27T16:49:42.309444",
     "exception": false,
     "start_time": "2021-07-27T16:49:42.203622",
     "status": "completed"
    },
    "tags": []
   },
   "outputs": [
    {
     "data": {
      "text/html": [
       "<div>\n",
       "<style scoped>\n",
       "    .dataframe tbody tr th:only-of-type {\n",
       "        vertical-align: middle;\n",
       "    }\n",
       "\n",
       "    .dataframe tbody tr th {\n",
       "        vertical-align: top;\n",
       "    }\n",
       "\n",
       "    .dataframe thead th {\n",
       "        text-align: right;\n",
       "    }\n",
       "</style>\n",
       "<table border=\"1\" class=\"dataframe\">\n",
       "  <thead>\n",
       "    <tr style=\"text-align: right;\">\n",
       "      <th></th>\n",
       "      <th>ID</th>\n",
       "      <th>Lat</th>\n",
       "      <th>Lng</th>\n",
       "      <th>Bump</th>\n",
       "      <th>Distance(mi)</th>\n",
       "      <th>Crossing</th>\n",
       "      <th>Give_Way</th>\n",
       "      <th>Junction</th>\n",
       "      <th>No_Exit</th>\n",
       "      <th>Railway</th>\n",
       "      <th>Roundabout</th>\n",
       "      <th>Stop</th>\n",
       "      <th>Amenity</th>\n",
       "      <th>Side</th>\n",
       "      <th>timestamp</th>\n",
       "      <th>Severity</th>\n",
       "    </tr>\n",
       "  </thead>\n",
       "  <tbody>\n",
       "    <tr>\n",
       "      <th>0</th>\n",
       "      <td>6407</td>\n",
       "      <td>37.786060</td>\n",
       "      <td>-122.390900</td>\n",
       "      <td>False</td>\n",
       "      <td>0.039</td>\n",
       "      <td>False</td>\n",
       "      <td>False</td>\n",
       "      <td>True</td>\n",
       "      <td>False</td>\n",
       "      <td>False</td>\n",
       "      <td>False</td>\n",
       "      <td>False</td>\n",
       "      <td>False</td>\n",
       "      <td>R</td>\n",
       "      <td>2016-04-04 19:20:31</td>\n",
       "      <td>2</td>\n",
       "    </tr>\n",
       "    <tr>\n",
       "      <th>1</th>\n",
       "      <td>6408</td>\n",
       "      <td>37.769609</td>\n",
       "      <td>-122.415057</td>\n",
       "      <td>False</td>\n",
       "      <td>0.202</td>\n",
       "      <td>False</td>\n",
       "      <td>False</td>\n",
       "      <td>False</td>\n",
       "      <td>False</td>\n",
       "      <td>False</td>\n",
       "      <td>False</td>\n",
       "      <td>False</td>\n",
       "      <td>False</td>\n",
       "      <td>R</td>\n",
       "      <td>2020-10-28 11:51:00</td>\n",
       "      <td>2</td>\n",
       "    </tr>\n",
       "    <tr>\n",
       "      <th>2</th>\n",
       "      <td>6409</td>\n",
       "      <td>37.807495</td>\n",
       "      <td>-122.476021</td>\n",
       "      <td>False</td>\n",
       "      <td>0.000</td>\n",
       "      <td>False</td>\n",
       "      <td>False</td>\n",
       "      <td>False</td>\n",
       "      <td>False</td>\n",
       "      <td>False</td>\n",
       "      <td>False</td>\n",
       "      <td>False</td>\n",
       "      <td>False</td>\n",
       "      <td>R</td>\n",
       "      <td>2019-09-09 07:36:45</td>\n",
       "      <td>2</td>\n",
       "    </tr>\n",
       "    <tr>\n",
       "      <th>3</th>\n",
       "      <td>6410</td>\n",
       "      <td>37.761818</td>\n",
       "      <td>-122.405869</td>\n",
       "      <td>False</td>\n",
       "      <td>0.000</td>\n",
       "      <td>False</td>\n",
       "      <td>False</td>\n",
       "      <td>True</td>\n",
       "      <td>False</td>\n",
       "      <td>False</td>\n",
       "      <td>False</td>\n",
       "      <td>False</td>\n",
       "      <td>False</td>\n",
       "      <td>R</td>\n",
       "      <td>2019-08-06 15:46:25</td>\n",
       "      <td>2</td>\n",
       "    </tr>\n",
       "    <tr>\n",
       "      <th>4</th>\n",
       "      <td>6411</td>\n",
       "      <td>37.732350</td>\n",
       "      <td>-122.414100</td>\n",
       "      <td>False</td>\n",
       "      <td>0.670</td>\n",
       "      <td>False</td>\n",
       "      <td>False</td>\n",
       "      <td>False</td>\n",
       "      <td>False</td>\n",
       "      <td>False</td>\n",
       "      <td>False</td>\n",
       "      <td>False</td>\n",
       "      <td>False</td>\n",
       "      <td>R</td>\n",
       "      <td>2018-10-17 09:54:58</td>\n",
       "      <td>2</td>\n",
       "    </tr>\n",
       "  </tbody>\n",
       "</table>\n",
       "</div>"
      ],
      "text/plain": [
       "     ID        Lat         Lng   Bump  Distance(mi)  Crossing  Give_Way  \\\n",
       "0  6407  37.786060 -122.390900  False         0.039     False     False   \n",
       "1  6408  37.769609 -122.415057  False         0.202     False     False   \n",
       "2  6409  37.807495 -122.476021  False         0.000     False     False   \n",
       "3  6410  37.761818 -122.405869  False         0.000     False     False   \n",
       "4  6411  37.732350 -122.414100  False         0.670     False     False   \n",
       "\n",
       "   Junction  No_Exit  Railway  Roundabout   Stop  Amenity Side  \\\n",
       "0      True    False    False       False  False    False    R   \n",
       "1     False    False    False       False  False    False    R   \n",
       "2     False    False    False       False  False    False    R   \n",
       "3      True    False    False       False  False    False    R   \n",
       "4     False    False    False       False  False    False    R   \n",
       "\n",
       "             timestamp  Severity  \n",
       "0  2016-04-04 19:20:31         2  \n",
       "1  2020-10-28 11:51:00         2  \n",
       "2  2019-09-09 07:36:45         2  \n",
       "3  2019-08-06 15:46:25         2  \n",
       "4  2018-10-17 09:54:58         2  "
      ]
     },
     "execution_count": 24,
     "metadata": {},
     "output_type": "execute_result"
    }
   ],
   "source": [
    "X_test = test_df.drop(columns=['ID'])\n",
    "\n",
    "# You should update/remove the next line once you change the features used for training\n",
    "X_test = prepare_set(test_df)\n",
    "\n",
    "y_test_predicted = classifier.predict(X_test)\n",
    "\n",
    "test_df['Severity'] = y_test_predicted\n",
    "\n",
    "test_df.head()"
   ]
  },
  {
   "cell_type": "markdown",
   "id": "ca13f37d",
   "metadata": {
    "papermill": {
     "duration": 0.027517,
     "end_time": "2021-07-27T16:49:42.364437",
     "exception": false,
     "start_time": "2021-07-27T16:49:42.336920",
     "status": "completed"
    },
    "tags": []
   },
   "source": [
    "Now we're ready to generate the submission file. The submission file needs the columns `ID` and `Severity` only."
   ]
  },
  {
   "cell_type": "code",
   "execution_count": 25,
   "id": "d5590b42",
   "metadata": {
    "execution": {
     "iopub.execute_input": "2021-07-27T16:49:42.423888Z",
     "iopub.status.busy": "2021-07-27T16:49:42.423261Z",
     "iopub.status.idle": "2021-07-27T16:49:42.430305Z",
     "shell.execute_reply": "2021-07-27T16:49:42.430741Z"
    },
    "papermill": {
     "duration": 0.040033,
     "end_time": "2021-07-27T16:49:42.430925",
     "exception": false,
     "start_time": "2021-07-27T16:49:42.390892",
     "status": "completed"
    },
    "tags": []
   },
   "outputs": [],
   "source": [
    "test_df[[\"ID\", \"Severity\"]].to_csv(\"/kaggle/working/submission.csv\", index=False)\n"
   ]
  },
  {
   "cell_type": "markdown",
   "id": "135906c6",
   "metadata": {
    "papermill": {
     "duration": 0.027292,
     "end_time": "2021-07-27T16:49:42.485875",
     "exception": false,
     "start_time": "2021-07-27T16:49:42.458583",
     "status": "completed"
    },
    "tags": []
   },
   "source": [
    "The remaining steps is to submit the generated file and are as follows. \n",
    "\n",
    "1. Press `Save Version` on the upper right corner of this notebook.\n",
    "2. Write a `Version Name` of your choice and choose `Save & Run All (Commit)` then click `Save`.\n",
    "3. Wait for the saved notebook to finish running the go to the saved notebook.\n",
    "4. Scroll down until you see the output files then select the `submission.csv` file and click `Submit`.\n",
    "\n",
    "Now your submission will be evaluated and your score will be updated on the leaderboard! CONGRATULATIONS!!"
   ]
  },
  {
   "cell_type": "markdown",
   "id": "a788aaac",
   "metadata": {
    "papermill": {
     "duration": 0.026536,
     "end_time": "2021-07-27T16:49:42.539006",
     "exception": false,
     "start_time": "2021-07-27T16:49:42.512470",
     "status": "completed"
    },
    "tags": []
   },
   "source": [
    "## Conclusion\n",
    "\n",
    "In this notebook, we have demonstrated the essential steps that one should do in order to get \"slightly\" familiar with the data and the submission process. We chose not to go into details in each step to keep the welcoming notebook simple and make a room for improvement.\n",
    "\n",
    "You're encourged to `Fork` the notebook, edit it, add your insights and use it to create your submission."
   ]
  }
 ],
 "metadata": {
  "kernelspec": {
   "display_name": "Python 3",
   "language": "python",
   "name": "python3"
  },
  "language_info": {
   "codemirror_mode": {
    "name": "ipython",
    "version": 3
   },
   "file_extension": ".py",
   "mimetype": "text/x-python",
   "name": "python",
   "nbconvert_exporter": "python",
   "pygments_lexer": "ipython3",
   "version": "3.7.10"
  },
  "papermill": {
   "default_parameters": {},
   "duration": 13.806765,
   "end_time": "2021-07-27T16:49:43.947151",
   "environment_variables": {},
   "exception": null,
   "input_path": "__notebook__.ipynb",
   "output_path": "__notebook__.ipynb",
   "parameters": {},
   "start_time": "2021-07-27T16:49:30.140386",
   "version": "2.3.3"
  }
 },
 "nbformat": 4,
 "nbformat_minor": 5
}
